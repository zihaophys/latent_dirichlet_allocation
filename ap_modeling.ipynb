{
 "cells": [
  {
   "cell_type": "code",
   "execution_count": 1,
   "id": "00c43a25-ab65-4fb4-a0b6-26cd390f118f",
   "metadata": {},
   "outputs": [],
   "source": [
    "from preprocess import *\n",
    "from main import *\n",
    "import heapq"
   ]
  },
  {
   "cell_type": "code",
   "execution_count": 2,
   "id": "737795de-d262-4255-aa64-8615d4275059",
   "metadata": {},
   "outputs": [],
   "source": [
    "corpus, vocab = preprocessing(200)"
   ]
  },
  {
   "cell_type": "code",
   "execution_count": 3,
   "id": "9f897ca1-1817-4635-a443-3d96445cfa5c",
   "metadata": {
    "scrolled": true,
    "tags": []
   },
   "outputs": [
    {
     "name": "stdout",
     "output_type": "stream",
     "text": [
      "Iteration: 0\n",
      "Iteration: 1\n",
      "Iteration: 2\n",
      "Iteration: 3\n",
      "Iteration: 4\n",
      "Iteration: 5\n",
      "Iteration: 6\n",
      "Iteration: 7\n",
      "Iteration: 8\n",
      "Iteration: 9\n",
      "Iteration: 10\n",
      "Iteration: 11\n",
      "Iteration: 12\n",
      "Iteration: 13\n",
      "Iteration: 14\n",
      "Iteration: 15\n",
      "Iteration: 16\n",
      "Iteration: 17\n",
      "Iteration: 18\n",
      "Iteration: 19\n",
      "Iteration: 20\n",
      "Iteration: 21\n",
      "Iteration: 22\n",
      "Iteration: 23\n",
      "Iteration: 24\n",
      "Iteration: 25\n",
      "Iteration: 26\n",
      "Iteration: 27\n",
      "Iteration: 28\n",
      "Iteration: 29\n",
      "Iteration: 30\n",
      "Iteration: 31\n",
      "Iteration: 32\n",
      "Iteration: 33\n",
      "Iteration: 34\n",
      "Iteration: 35\n",
      "Iteration: 36\n",
      "Iteration: 37\n",
      "Iteration: 38\n",
      "Iteration: 39\n",
      "Iteration: 40\n",
      "Iteration: 41\n",
      "Iteration: 42\n",
      "Iteration: 43\n",
      "Iteration: 44\n",
      "Iteration: 45\n",
      "Iteration: 46\n",
      "Iteration: 47\n",
      "Iteration: 48\n",
      "Iteration: 49\n",
      "Iteration: 50\n",
      "Iteration: 51\n",
      "Iteration: 52\n",
      "Iteration: 53\n",
      "Iteration: 54\n",
      "Iteration: 55\n",
      "Iteration: 56\n",
      "Iteration: 57\n",
      "Iteration: 58\n",
      "Iteration: 59\n",
      "Iteration: 60\n",
      "Iteration: 61\n",
      "Iteration: 62\n",
      "Iteration: 63\n",
      "Iteration: 64\n",
      "Iteration: 65\n",
      "Iteration: 66\n",
      "Iteration: 67\n",
      "Iteration: 68\n",
      "Iteration: 69\n",
      "Iteration: 70\n",
      "Iteration: 71\n",
      "Iteration: 72\n",
      "Iteration: 73\n",
      "Iteration: 74\n",
      "Iteration: 75\n",
      "Iteration: 76\n",
      "Iteration: 77\n",
      "Iteration: 78\n",
      "Iteration: 79\n",
      "Iteration: 80\n",
      "Iteration: 81\n",
      "Iteration: 82\n",
      "Iteration: 83\n",
      "Iteration: 84\n",
      "Iteration: 85\n",
      "Iteration: 86\n",
      "Iteration: 87\n",
      "Iteration: 88\n",
      "Iteration: 89\n",
      "Iteration: 90\n",
      "Iteration: 91\n",
      "Iteration: 92\n",
      "Iteration: 93\n",
      "Iteration: 94\n",
      "Iteration: 95\n",
      "Iteration: 96\n",
      "Iteration: 97\n",
      "Iteration: 98\n",
      "Iteration: 99\n"
     ]
    }
   ],
   "source": [
    "alpha, beta = LDA.parameter_estimation(corpus, 7)"
   ]
  },
  {
   "cell_type": "code",
   "execution_count": 4,
   "id": "6dcc7a2c-0e7a-4e55-a5cb-d390939964ad",
   "metadata": {},
   "outputs": [],
   "source": [
    "def find_index(beta):\n",
    "    beta = beta.tolist()\n",
    "    max_values = heapq.nlargest(10, beta)\n",
    "    return [beta.index(max_values[i]) for i in range(10)]\n",
    "indices = list(map(find_index, beta))"
   ]
  },
  {
   "cell_type": "code",
   "execution_count": 5,
   "id": "f747247f-1b9b-48f6-89f7-2afc0f6a5923",
   "metadata": {},
   "outputs": [
    {
     "name": "stdout",
     "output_type": "stream",
     "text": [
      "['new', 'year', 'union', 'president', 'last', 'state', 'officials', 'city', 'york', 'first']\n",
      "['party', 'year', 'president', 'government', 'political', 'monday', 'two', 'new', 'first', 'gorbachev']\n",
      "['police', 'people', 'state', 'man', 'two', 'city', 'arrested', 'new', 'found', 'yearold']\n",
      "['new', 'year', 'last', 'billion', 'government', 'people', 'gold', 'officials', 'first', 'president']\n",
      "['prices', 'trade', 'market', 'dollar', 'new', 'cents', 'late', 'yen', 'trading', 'lower']\n",
      "['soviet', 'president', 'union', 'people', 'two', 'committee', 'government', 'new', 'officials', 'polish']\n",
      "['central', 'president', 'people', 'rating', 'new', 'year', 'officials', 'two', 'films', 'films']\n"
     ]
    }
   ],
   "source": [
    "for i in range(7):\n",
    "    print([vocab[j] for j in indices[i]])"
   ]
  }
 ],
 "metadata": {
  "kernelspec": {
   "display_name": "Python 3 (ipykernel)",
   "language": "python",
   "name": "python3"
  },
  "language_info": {
   "codemirror_mode": {
    "name": "ipython",
    "version": 3
   },
   "file_extension": ".py",
   "mimetype": "text/x-python",
   "name": "python",
   "nbconvert_exporter": "python",
   "pygments_lexer": "ipython3",
   "version": "3.7.11"
  }
 },
 "nbformat": 4,
 "nbformat_minor": 5
}
